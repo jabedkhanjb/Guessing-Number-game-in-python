{
 "cells": [
  {
   "cell_type": "code",
   "execution_count": 66,
   "id": "565e4d49",
   "metadata": {},
   "outputs": [
    {
     "name": "stdout",
     "output_type": "stream",
     "text": [
      "********************************************************************************\n",
      "******************************** Guessing  Game ********************************\n",
      "Guess number between 1 to 100: \n",
      "Guess a number between: 80\n",
      "Guess Lower\n",
      "Guess a number between: 50\n",
      "Guess Higher\n",
      "Guess a number between: 70\n",
      "Guess Lower\n",
      "Guess a number between: 60\n",
      "Guess Higher\n",
      "Guess a number between: 65\n",
      "You Won!!\n",
      "You took 5 tries to get the number.\n"
     ]
    }
   ],
   "source": [
    "import random\n",
    "generate_number = random.randint(1,100)\n",
    "# print(generate_number)\n",
    "\n",
    "print(\"*\"*80)\n",
    "print(\"*\"*32, end=\" \")\n",
    "print(\"Guessing  Game\", end=\" \")\n",
    "print(\"*\"*32)\n",
    "guess_count = 0\n",
    "guess_count_limit = 100\n",
    "\n",
    "print(\"Guess number between 1 to 100: \")\n",
    "while guess_count < guess_count_limit:\n",
    "    guess = int(input(\"Guess a number between: \"))\n",
    "    guess_count += 1\n",
    "    if guess > generate_number:\n",
    "        print(\"Guess Lower\")\n",
    "    elif guess < generate_number:\n",
    "        print(\"Guess Higher\")\n",
    "    elif guess == generate_number:\n",
    "        print(\"You Won!!\")\n",
    "        print(f\"You took {guess_count} tries to get the number.\")\n",
    "        break\n",
    "        \n",
    "else:\n",
    "    print(\"You Wrong!!\")    \n",
    "    \n",
    "\n",
    "\n",
    "    "
   ]
  },
  {
   "cell_type": "code",
   "execution_count": null,
   "id": "6dd7798f",
   "metadata": {},
   "outputs": [],
   "source": []
  },
  {
   "cell_type": "code",
   "execution_count": null,
   "id": "d6afa202",
   "metadata": {},
   "outputs": [],
   "source": []
  }
 ],
 "metadata": {
  "kernelspec": {
   "display_name": "Python 3 (ipykernel)",
   "language": "python",
   "name": "python3"
  },
  "language_info": {
   "codemirror_mode": {
    "name": "ipython",
    "version": 3
   },
   "file_extension": ".py",
   "mimetype": "text/x-python",
   "name": "python",
   "nbconvert_exporter": "python",
   "pygments_lexer": "ipython3",
   "version": "3.9.13"
  }
 },
 "nbformat": 4,
 "nbformat_minor": 5
}
